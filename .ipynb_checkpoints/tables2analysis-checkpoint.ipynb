{
 "cells": [
  {
   "cell_type": "code",
   "execution_count": 1,
   "metadata": {},
   "outputs": [],
   "source": [
    "# Convert the tables to a standard format\n",
    "import pandas as pd\n",
    "import glob\n",
    "import numpy as np\n",
    "import qgrid"
   ]
  },
  {
   "cell_type": "code",
   "execution_count": 2,
   "metadata": {},
   "outputs": [],
   "source": [
    "common_labels = ['cellID','cluster_id','cluster_label','subclass_label','class_label','embedding1','embedding2']\n",
    "rna_cols = ['cell','cluster_id','cluster_label','subclass_label','class_label','',''] \n",
    "atac_cols = ['cell','Li et al 2020 SubType','Li et al 2020 MajorType','Li et al 2020 Class','tsne1','tsne2']\n",
    "mc_cols = ['cell','SubCluster','MajorCluster','','tsne_0','tsne_1']\n",
    "mc_cols = ['cell','SubCluster','MajorCluster','','umap_0','umap_1']"
   ]
  },
  {
   "cell_type": "code",
   "execution_count": 3,
   "metadata": {},
   "outputs": [],
   "source": [
    "flist = glob.glob('/Users/emukamel/Dropbox/UCSD/Research Projects/BICCN/Mouse Mini-Atlas paper/Nature resubmission/ToSubmit/Supplementary Tables - Revision/Table_S4_UnimodalClusters/*RNA*.gz')\n",
    "analyses = pd.DataFrame(columns=['AnalysisID','Contact','file','Description'])\n",
    "for i,f in enumerate(flist):\n",
    "    data=pd.read_csv(f,sep='\\t',nrows=20)\n",
    "    data = data.rename(columns={j:k for (j,k) in zip(rna_cols,common_labels)})\n",
    "    \n",
    "    # Add missing columns\n",
    "    for c in common_labels:\n",
    "        if c not in data.columns:\n",
    "            data[c] = np.NaN\n",
    "            \n",
    "    ucols = common_labels + list( set(data.columns) - set(common_labels) )\n",
    "    data = data[ucols]\n",
    "    sample = f.split('/')[-1].strip('.tsv.gz')\n",
    "    data.to_csv('Analysis%d.csv.gz' % i)\n",
    "    analyses=analyses.append(pd.Series({'AnalysisID':  'Analysis%d'% i, 'Contact': 'emukamel@ucsd.edu',\n",
    "                                       'file': 'Analysis%d.csv.gz' % i}),ignore_index=True)\n",
    "analyses.to_csv('Analyses.csv.gz')"
   ]
  },
  {
   "cell_type": "code",
   "execution_count": 4,
   "metadata": {},
   "outputs": [],
   "source": [
    "f = '/Users/emukamel/Dropbox/UCSD/Research Projects/BICCN/Mouse Mini-Atlas paper/Nature resubmission/ToSubmit/Supplementary Tables - Revision/Table_S4_UnimodalClusters/Table_S4g_open_chromatin_metadata.tsv.gz'\n",
    "analyses = pd.read_csv('Analyses.csv.gz')\n",
    "i=analyses.shape[0]+1\n",
    "analyses=analyses.append(pd.Series({'AnalysisID':  'Analysis%d'% i, 'Contact': 'emukamel@ucsd.edu',\n",
    "                                   'file': 'Analysis%d.csv.gz' % i}),ignore_index=True)\n",
    "# analyses.to_csv('Analyses.csv.gz')\n",
    "\n",
    "data=pd.read_csv(f,sep='\\t',nrows=20)\n",
    "data = data.rename(columns={j:k for (j,k) in zip(atac_cols,common_labels)})\n",
    "    \n",
    "# Add missing columns\n",
    "for c in common_labels:\n",
    "    if c not in data.columns:\n",
    "        data[c] = np.NaN\n",
    "            \n",
    "ucols = common_labels + list( set(data.columns) - set(common_labels) )\n",
    "data = data[ucols]\n",
    "sample = f.split('/')[-1].strip('.tsv.gz')\n",
    "data.to_csv('Analysis%d.csv.gz' % i)\n"
   ]
  },
  {
   "cell_type": "code",
   "execution_count": 5,
   "metadata": {},
   "outputs": [
    {
     "data": {
      "application/vnd.jupyter.widget-view+json": {
       "model_id": "2282488ff56a416b9bb253c8c1df69c1",
       "version_major": 2,
       "version_minor": 0
      },
      "text/plain": [
       "QgridWidget(grid_options={'fullWidthRows': True, 'syncColumnCellResize': True, 'forceFitColumns': True, 'defau…"
      ]
     },
     "metadata": {},
     "output_type": "display_data"
    }
   ],
   "source": [
    "qw=qgrid.show_grid(analyses,show_toolbar=True)\n",
    "qw"
   ]
  },
  {
   "cell_type": "code",
   "execution_count": 15,
   "metadata": {},
   "outputs": [
    {
     "data": {
      "text/plain": [
       "AnalysisID            Analysis5\n",
       "Contact       emukamel@ucsd.edu\n",
       "dtype: object"
      ]
     },
     "execution_count": 15,
     "metadata": {},
     "output_type": "execute_result"
    }
   ],
   "source": [
    "pd.Series({'AnalysisID':  'Analysis%d'% i, 'Contact': 'emukamel@ucsd.edu'})"
   ]
  },
  {
   "cell_type": "code",
   "execution_count": null,
   "metadata": {},
   "outputs": [],
   "source": []
  }
 ],
 "metadata": {
  "kernelspec": {
   "display_name": "Python 3",
   "language": "python",
   "name": "python3"
  },
  "language_info": {
   "codemirror_mode": {
    "name": "ipython",
    "version": 3
   },
   "file_extension": ".py",
   "mimetype": "text/x-python",
   "name": "python",
   "nbconvert_exporter": "python",
   "pygments_lexer": "ipython3",
   "version": "3.7.3"
  }
 },
 "nbformat": 4,
 "nbformat_minor": 2
}
